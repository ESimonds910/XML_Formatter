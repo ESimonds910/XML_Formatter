{
 "cells": [
  {
   "cell_type": "code",
   "execution_count": 5,
   "metadata": {},
   "outputs": [],
   "source": [
    "from artel_parse import artel_reader_v2 as artel_parse"
   ]
  },
  {
   "cell_type": "markdown",
   "metadata": {},
   "source": [
    "# Artel Parser: XML file formatter\n",
    "\n",
    "#### The artel parser outputs an XML file containing well data - this script will reformat the XML file into an excel (xlsx) file\n",
    "##### *** Select \"Cell > Run All\" to run the script"
   ]
  },
  {
   "cell_type": "code",
   "execution_count": 6,
   "metadata": {},
   "outputs": [
    {
     "data": {
      "application/vnd.jupyter.widget-view+json": {
       "model_id": "3fc9178bf1c848548eebcc975046c86e",
       "version_major": 2,
       "version_minor": 0
      },
      "text/plain": [
       "Output()"
      ]
     },
     "metadata": {},
     "output_type": "display_data"
    },
    {
     "data": {
      "application/vnd.jupyter.widget-view+json": {
       "model_id": "8b8dc24212324bf29f055766916be0a5",
       "version_major": 2,
       "version_minor": 0
      },
      "text/plain": [
       "HTML(value='<h3><b><u>Output display</u></b></h3>')"
      ]
     },
     "metadata": {},
     "output_type": "display_data"
    },
    {
     "data": {
      "text/html": [
       "<div>\n",
       "<style scoped>\n",
       "    .dataframe tbody tr th:only-of-type {\n",
       "        vertical-align: middle;\n",
       "    }\n",
       "\n",
       "    .dataframe tbody tr th {\n",
       "        vertical-align: top;\n",
       "    }\n",
       "\n",
       "    .dataframe thead th {\n",
       "        text-align: right;\n",
       "    }\n",
       "</style>\n",
       "<table border=\"1\" class=\"dataframe\">\n",
       "  <thead>\n",
       "    <tr style=\"text-align: right;\">\n",
       "      <th></th>\n",
       "      <th>19</th>\n",
       "      <th>20</th>\n",
       "      <th>21</th>\n",
       "    </tr>\n",
       "  </thead>\n",
       "  <tbody>\n",
       "    <tr>\n",
       "      <th>A</th>\n",
       "      <td>3.728</td>\n",
       "      <td>6.159</td>\n",
       "      <td>6.354</td>\n",
       "    </tr>\n",
       "    <tr>\n",
       "      <th>B</th>\n",
       "      <td>6.331</td>\n",
       "      <td>6.326</td>\n",
       "      <td>6.370</td>\n",
       "    </tr>\n",
       "    <tr>\n",
       "      <th>C</th>\n",
       "      <td>4.841</td>\n",
       "      <td>5.893</td>\n",
       "      <td>5.979</td>\n",
       "    </tr>\n",
       "    <tr>\n",
       "      <th>D</th>\n",
       "      <td>6.001</td>\n",
       "      <td>5.968</td>\n",
       "      <td>6.009</td>\n",
       "    </tr>\n",
       "    <tr>\n",
       "      <th>E</th>\n",
       "      <td>5.626</td>\n",
       "      <td>5.936</td>\n",
       "      <td>5.973</td>\n",
       "    </tr>\n",
       "    <tr>\n",
       "      <th>F</th>\n",
       "      <td>5.987</td>\n",
       "      <td>5.947</td>\n",
       "      <td>6.015</td>\n",
       "    </tr>\n",
       "    <tr>\n",
       "      <th>G</th>\n",
       "      <td>5.687</td>\n",
       "      <td>5.906</td>\n",
       "      <td>6.003</td>\n",
       "    </tr>\n",
       "    <tr>\n",
       "      <th>H</th>\n",
       "      <td>6.049</td>\n",
       "      <td>5.981</td>\n",
       "      <td>6.005</td>\n",
       "    </tr>\n",
       "    <tr>\n",
       "      <th>I</th>\n",
       "      <td>5.610</td>\n",
       "      <td>5.726</td>\n",
       "      <td>5.767</td>\n",
       "    </tr>\n",
       "    <tr>\n",
       "      <th>J</th>\n",
       "      <td>5.853</td>\n",
       "      <td>5.759</td>\n",
       "      <td>5.838</td>\n",
       "    </tr>\n",
       "    <tr>\n",
       "      <th>K</th>\n",
       "      <td>5.602</td>\n",
       "      <td>5.662</td>\n",
       "      <td>5.732</td>\n",
       "    </tr>\n",
       "    <tr>\n",
       "      <th>L</th>\n",
       "      <td>5.718</td>\n",
       "      <td>5.624</td>\n",
       "      <td>5.756</td>\n",
       "    </tr>\n",
       "    <tr>\n",
       "      <th>M</th>\n",
       "      <td>5.842</td>\n",
       "      <td>5.845</td>\n",
       "      <td>5.888</td>\n",
       "    </tr>\n",
       "    <tr>\n",
       "      <th>N</th>\n",
       "      <td>5.945</td>\n",
       "      <td>5.939</td>\n",
       "      <td>5.833</td>\n",
       "    </tr>\n",
       "    <tr>\n",
       "      <th>O</th>\n",
       "      <td>5.800</td>\n",
       "      <td>5.716</td>\n",
       "      <td>5.850</td>\n",
       "    </tr>\n",
       "    <tr>\n",
       "      <th>P</th>\n",
       "      <td>5.749</td>\n",
       "      <td>5.891</td>\n",
       "      <td>5.866</td>\n",
       "    </tr>\n",
       "  </tbody>\n",
       "</table>\n",
       "</div>"
      ],
      "text/plain": [
       "      19     20     21\n",
       "A  3.728  6.159  6.354\n",
       "B  6.331  6.326  6.370\n",
       "C  4.841  5.893  5.979\n",
       "D  6.001  5.968  6.009\n",
       "E  5.626  5.936  5.973\n",
       "F  5.987  5.947  6.015\n",
       "G  5.687  5.906  6.003\n",
       "H  6.049  5.981  6.005\n",
       "I  5.610  5.726  5.767\n",
       "J  5.853  5.759  5.838\n",
       "K  5.602  5.662  5.732\n",
       "L  5.718  5.624  5.756\n",
       "M  5.842  5.845  5.888\n",
       "N  5.945  5.939  5.833\n",
       "O  5.800  5.716  5.850\n",
       "P  5.749  5.891  5.866"
      ]
     },
     "metadata": {},
     "output_type": "display_data"
    }
   ],
   "source": [
    "artel_parse.XMLFormatter();"
   ]
  },
  {
   "cell_type": "code",
   "execution_count": null,
   "metadata": {},
   "outputs": [],
   "source": []
  }
 ],
 "metadata": {
  "kernelspec": {
   "display_name": "Python 3",
   "language": "python",
   "name": "python3"
  },
  "language_info": {
   "codemirror_mode": {
    "name": "ipython",
    "version": 3
   },
   "file_extension": ".py",
   "mimetype": "text/x-python",
   "name": "python",
   "nbconvert_exporter": "python",
   "pygments_lexer": "ipython3",
   "version": "3.8.3"
  }
 },
 "nbformat": 4,
 "nbformat_minor": 4
}
